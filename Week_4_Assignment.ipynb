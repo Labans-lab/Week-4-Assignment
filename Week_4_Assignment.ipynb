{
  "nbformat": 4,
  "nbformat_minor": 0,
  "metadata": {
    "colab": {
      "provenance": []
    },
    "kernelspec": {
      "name": "python3",
      "display_name": "Python 3"
    },
    "language_info": {
      "name": "python"
    }
  },
  "cells": [
    {
      "cell_type": "code",
      "execution_count": 5,
      "metadata": {
        "id": "udcha8cp8JIR"
      },
      "outputs": [],
      "source": [
        "#Part 2: Practical Implementation\n",
        "#Task 1: AI-Powered Code Completion\n",
        "\n",
        "#Tool: GitHub Copilot / Tabnine\n",
        "\n",
        "#Task: Write a function to sort a list of dictionaries by a key.\n",
        "#Manual Implementation:\n",
        "\n",
        "def sort_by_key(data, key):\n",
        "    return sorted(data, key=lambda x: x[key])\n",
        "\n",
        "#AI-Suggested (e.g., Copilot output):\n",
        "\n",
        "def sort_by_key(data, key):\n",
        "    if not data:\n",
        "        return []\n",
        "    return sorted(data, key=lambda x: x.get(key, ''))"
      ]
    },
    {
      "cell_type": "markdown",
      "source": [
        "**Task 2: Automated Testing with AI**\n",
        "\n",
        "Tool: Selenium IDE / Testim.io\n",
        "Goal: Automate login testing for valid and invalid inputs."
      ],
      "metadata": {
        "id": "5B4sjhU1_FTz"
      }
    },
    {
      "cell_type": "code",
      "source": [
        "# Automated Testing with AI\n",
        "\n",
        "# Tool: Selenium IDE / Testim.io\n",
        "# Goal: Automate login testing for valid and invalid inputs.\n",
        "\n",
        "from selenium import webdriver\n",
        "from selenium.webdriver.common.by import By\n",
        "from selenium.webdriver.chrome.options import Options\n",
        "from selenium.webdriver.support.ui import WebDriverWait\n",
        "from selenium.webdriver.support import expected_conditions as EC\n",
        "import time\n",
        "\n",
        "options = Options()\n",
        "options.add_argument('--headless')\n",
        "options.add_argument('--no-sandbox')\n",
        "options.add_argument('--disable-dev-shm-usage')\n",
        "driver = webdriver.Chrome(options=options)\n",
        "\n",
        "driver.get(\"https://academy.powerlearnprojectafrica.org/login\")\n",
        "\n",
        "# --- VALID LOGIN ---\n",
        "driver.find_element(By.ID, \"email\").send_keys(\"labankipkoech047@gmail.com\")\n",
        "driver.find_element(By.ID, \"password\").send_keys(\"Laban047!\")\n",
        "driver.find_element(By.XPATH, '//button[normalize-space()=\"Sign In\"]').click()\n",
        "\n",
        "# Wait for something unique on the dashboard\n",
        "try:\n",
        "    WebDriverWait(driver, 10).until(\n",
        "        EC.presence_of_element_located((By.XPATH, '//*[contains(text(), \"Software Development - July 2025 - Cohort VIII\")]'))\n",
        "    )\n",
        "    print(\"Valid login successful.\")\n",
        "except:\n",
        "    print(\"Login failed — unique dashboard element not found.\")\n",
        "    print(\"Current title:\", driver.title)\n",
        "\n",
        "# --- INVALID LOGIN ---\n",
        "driver.get(\"https://academy.powerlearnprojectafrica.org/login\")\n",
        "driver.find_element(By.ID, \"email\").send_keys(\"fakeuser@example.com\")\n",
        "driver.find_element(By.ID, \"password\").send_keys(\"wrongpass\")\n",
        "driver.find_element(By.XPATH, '//button[normalize-space()=\"Sign In\"]').click()\n",
        "\n",
        "try:\n",
        "    WebDriverWait(driver, 5).until(\n",
        "        EC.presence_of_element_located((By.XPATH, '//*[contains(text(), \"Invalid\")]'))\n",
        "    )\n",
        "    print(\"Invalid login correctly detected.\")\n",
        "except:\n",
        "    print(\"Invalid login test: error message not found.\")\n",
        "\n",
        "driver.quit()"
      ],
      "metadata": {
        "colab": {
          "base_uri": "https://localhost:8080/"
        },
        "outputId": "2f793f2b-74f1-495f-8e51-13c53f07dd01",
        "id": "KxRqChrrF2x-"
      },
      "execution_count": 12,
      "outputs": [
        {
          "output_type": "stream",
          "name": "stdout",
          "text": [
            "Valid login successful.\n",
            "Invalid login correctly detected.\n"
          ]
        }
      ]
    },
    {
      "cell_type": "markdown",
      "source": [
        "\n",
        "\n",
        "> Add blockquote![Screenshot 2025-10-30 122939.png](data:image/png;base64,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)\n",
        "\n"
      ],
      "metadata": {
        "id": "JyB3MYmcetJK"
      }
    },
    {
      "cell_type": "markdown",
      "source": [
        "**Task 3: Predictive Analytics for Resource Allocation**\n",
        "\n",
        "**Dataset:** Use Kaggle Breast Cancer Dataset.\n",
        "\n",
        "**Goal:**\n",
        "\n",
        "\n",
        "\n",
        "1.   Preprocess data (clean, label, split).\n",
        "2.   Train a model (e.g., Random Forest) to predict issue priority (high/medium/low).\n",
        "\n",
        "\n",
        "1.  Evaluate using accuracy and F1-score.\n",
        "\n",
        "Deliverable: Jupyter Notebook + performance metrics.\n",
        "\n",
        "\n",
        "\n",
        "\n",
        "\n"
      ],
      "metadata": {
        "id": "Km9zL5xOdUwb"
      }
    },
    {
      "cell_type": "code",
      "source": [
        "import pandas as pd\n",
        "from sklearn.model_selection import train_test_split\n",
        "from sklearn.ensemble import RandomForestClassifier\n",
        "from sklearn.metrics import accuracy_score, f1_score\n",
        "\n",
        "df = pd.read_csv(\"breast_cancer.csv\")\n",
        "df.dropna(inplace=True)\n",
        "X = df.drop(\"diagnosis\", axis=1)\n",
        "y = df[\"diagnosis\"].map({'M': 'High', 'B': 'Low'})\n",
        "\n",
        "X_train, X_test, y_train, y_test = train_test_split(X, y, test_size=0.2, random_state=42)\n",
        "\n",
        "model = RandomForestClassifier(random_state=42)\n",
        "model.fit(X_train, y_train)\n",
        "y_pred = model.predict(X_test)\n",
        "\n",
        "print(\"Accuracy:\", accuracy_score(y_test, y_pred))\n",
        "print(\"F1 Score:\", f1_score(y_test, y_pred, average='weighted'))\n"
      ],
      "metadata": {
        "colab": {
          "base_uri": "https://localhost:8080/",
          "height": 356
        },
        "id": "6m5oijIDebze",
        "outputId": "ffa56910-a101-4619-8630-b364237abad2"
      },
      "execution_count": 13,
      "outputs": [
        {
          "output_type": "error",
          "ename": "FileNotFoundError",
          "evalue": "[Errno 2] No such file or directory: 'breast_cancer.csv'",
          "traceback": [
            "\u001b[0;31m---------------------------------------------------------------------------\u001b[0m",
            "\u001b[0;31mFileNotFoundError\u001b[0m                         Traceback (most recent call last)",
            "\u001b[0;32m/tmp/ipython-input-1014745104.py\u001b[0m in \u001b[0;36m<cell line: 0>\u001b[0;34m()\u001b[0m\n\u001b[1;32m      4\u001b[0m \u001b[0;32mfrom\u001b[0m \u001b[0msklearn\u001b[0m\u001b[0;34m.\u001b[0m\u001b[0mmetrics\u001b[0m \u001b[0;32mimport\u001b[0m \u001b[0maccuracy_score\u001b[0m\u001b[0;34m,\u001b[0m \u001b[0mf1_score\u001b[0m\u001b[0;34m\u001b[0m\u001b[0;34m\u001b[0m\u001b[0m\n\u001b[1;32m      5\u001b[0m \u001b[0;34m\u001b[0m\u001b[0m\n\u001b[0;32m----> 6\u001b[0;31m \u001b[0mdf\u001b[0m \u001b[0;34m=\u001b[0m \u001b[0mpd\u001b[0m\u001b[0;34m.\u001b[0m\u001b[0mread_csv\u001b[0m\u001b[0;34m(\u001b[0m\u001b[0;34m\"breast_cancer.csv\"\u001b[0m\u001b[0;34m)\u001b[0m\u001b[0;34m\u001b[0m\u001b[0;34m\u001b[0m\u001b[0m\n\u001b[0m\u001b[1;32m      7\u001b[0m \u001b[0mdf\u001b[0m\u001b[0;34m.\u001b[0m\u001b[0mdropna\u001b[0m\u001b[0;34m(\u001b[0m\u001b[0minplace\u001b[0m\u001b[0;34m=\u001b[0m\u001b[0;32mTrue\u001b[0m\u001b[0;34m)\u001b[0m\u001b[0;34m\u001b[0m\u001b[0;34m\u001b[0m\u001b[0m\n\u001b[1;32m      8\u001b[0m \u001b[0mX\u001b[0m \u001b[0;34m=\u001b[0m \u001b[0mdf\u001b[0m\u001b[0;34m.\u001b[0m\u001b[0mdrop\u001b[0m\u001b[0;34m(\u001b[0m\u001b[0;34m\"diagnosis\"\u001b[0m\u001b[0;34m,\u001b[0m \u001b[0maxis\u001b[0m\u001b[0;34m=\u001b[0m\u001b[0;36m1\u001b[0m\u001b[0;34m)\u001b[0m\u001b[0;34m\u001b[0m\u001b[0;34m\u001b[0m\u001b[0m\n",
            "\u001b[0;32m/usr/local/lib/python3.12/dist-packages/pandas/io/parsers/readers.py\u001b[0m in \u001b[0;36mread_csv\u001b[0;34m(filepath_or_buffer, sep, delimiter, header, names, index_col, usecols, dtype, engine, converters, true_values, false_values, skipinitialspace, skiprows, skipfooter, nrows, na_values, keep_default_na, na_filter, verbose, skip_blank_lines, parse_dates, infer_datetime_format, keep_date_col, date_parser, date_format, dayfirst, cache_dates, iterator, chunksize, compression, thousands, decimal, lineterminator, quotechar, quoting, doublequote, escapechar, comment, encoding, encoding_errors, dialect, on_bad_lines, delim_whitespace, low_memory, memory_map, float_precision, storage_options, dtype_backend)\u001b[0m\n\u001b[1;32m   1024\u001b[0m     \u001b[0mkwds\u001b[0m\u001b[0;34m.\u001b[0m\u001b[0mupdate\u001b[0m\u001b[0;34m(\u001b[0m\u001b[0mkwds_defaults\u001b[0m\u001b[0;34m)\u001b[0m\u001b[0;34m\u001b[0m\u001b[0;34m\u001b[0m\u001b[0m\n\u001b[1;32m   1025\u001b[0m \u001b[0;34m\u001b[0m\u001b[0m\n\u001b[0;32m-> 1026\u001b[0;31m     \u001b[0;32mreturn\u001b[0m \u001b[0m_read\u001b[0m\u001b[0;34m(\u001b[0m\u001b[0mfilepath_or_buffer\u001b[0m\u001b[0;34m,\u001b[0m \u001b[0mkwds\u001b[0m\u001b[0;34m)\u001b[0m\u001b[0;34m\u001b[0m\u001b[0;34m\u001b[0m\u001b[0m\n\u001b[0m\u001b[1;32m   1027\u001b[0m \u001b[0;34m\u001b[0m\u001b[0m\n\u001b[1;32m   1028\u001b[0m \u001b[0;34m\u001b[0m\u001b[0m\n",
            "\u001b[0;32m/usr/local/lib/python3.12/dist-packages/pandas/io/parsers/readers.py\u001b[0m in \u001b[0;36m_read\u001b[0;34m(filepath_or_buffer, kwds)\u001b[0m\n\u001b[1;32m    618\u001b[0m \u001b[0;34m\u001b[0m\u001b[0m\n\u001b[1;32m    619\u001b[0m     \u001b[0;31m# Create the parser.\u001b[0m\u001b[0;34m\u001b[0m\u001b[0;34m\u001b[0m\u001b[0m\n\u001b[0;32m--> 620\u001b[0;31m     \u001b[0mparser\u001b[0m \u001b[0;34m=\u001b[0m \u001b[0mTextFileReader\u001b[0m\u001b[0;34m(\u001b[0m\u001b[0mfilepath_or_buffer\u001b[0m\u001b[0;34m,\u001b[0m \u001b[0;34m**\u001b[0m\u001b[0mkwds\u001b[0m\u001b[0;34m)\u001b[0m\u001b[0;34m\u001b[0m\u001b[0;34m\u001b[0m\u001b[0m\n\u001b[0m\u001b[1;32m    621\u001b[0m \u001b[0;34m\u001b[0m\u001b[0m\n\u001b[1;32m    622\u001b[0m     \u001b[0;32mif\u001b[0m \u001b[0mchunksize\u001b[0m \u001b[0;32mor\u001b[0m \u001b[0miterator\u001b[0m\u001b[0;34m:\u001b[0m\u001b[0;34m\u001b[0m\u001b[0;34m\u001b[0m\u001b[0m\n",
            "\u001b[0;32m/usr/local/lib/python3.12/dist-packages/pandas/io/parsers/readers.py\u001b[0m in \u001b[0;36m__init__\u001b[0;34m(self, f, engine, **kwds)\u001b[0m\n\u001b[1;32m   1618\u001b[0m \u001b[0;34m\u001b[0m\u001b[0m\n\u001b[1;32m   1619\u001b[0m         \u001b[0mself\u001b[0m\u001b[0;34m.\u001b[0m\u001b[0mhandles\u001b[0m\u001b[0;34m:\u001b[0m \u001b[0mIOHandles\u001b[0m \u001b[0;34m|\u001b[0m \u001b[0;32mNone\u001b[0m \u001b[0;34m=\u001b[0m \u001b[0;32mNone\u001b[0m\u001b[0;34m\u001b[0m\u001b[0;34m\u001b[0m\u001b[0m\n\u001b[0;32m-> 1620\u001b[0;31m         \u001b[0mself\u001b[0m\u001b[0;34m.\u001b[0m\u001b[0m_engine\u001b[0m \u001b[0;34m=\u001b[0m \u001b[0mself\u001b[0m\u001b[0;34m.\u001b[0m\u001b[0m_make_engine\u001b[0m\u001b[0;34m(\u001b[0m\u001b[0mf\u001b[0m\u001b[0;34m,\u001b[0m \u001b[0mself\u001b[0m\u001b[0;34m.\u001b[0m\u001b[0mengine\u001b[0m\u001b[0;34m)\u001b[0m\u001b[0;34m\u001b[0m\u001b[0;34m\u001b[0m\u001b[0m\n\u001b[0m\u001b[1;32m   1621\u001b[0m \u001b[0;34m\u001b[0m\u001b[0m\n\u001b[1;32m   1622\u001b[0m     \u001b[0;32mdef\u001b[0m \u001b[0mclose\u001b[0m\u001b[0;34m(\u001b[0m\u001b[0mself\u001b[0m\u001b[0;34m)\u001b[0m \u001b[0;34m->\u001b[0m \u001b[0;32mNone\u001b[0m\u001b[0;34m:\u001b[0m\u001b[0;34m\u001b[0m\u001b[0;34m\u001b[0m\u001b[0m\n",
            "\u001b[0;32m/usr/local/lib/python3.12/dist-packages/pandas/io/parsers/readers.py\u001b[0m in \u001b[0;36m_make_engine\u001b[0;34m(self, f, engine)\u001b[0m\n\u001b[1;32m   1878\u001b[0m                 \u001b[0;32mif\u001b[0m \u001b[0;34m\"b\"\u001b[0m \u001b[0;32mnot\u001b[0m \u001b[0;32min\u001b[0m \u001b[0mmode\u001b[0m\u001b[0;34m:\u001b[0m\u001b[0;34m\u001b[0m\u001b[0;34m\u001b[0m\u001b[0m\n\u001b[1;32m   1879\u001b[0m                     \u001b[0mmode\u001b[0m \u001b[0;34m+=\u001b[0m \u001b[0;34m\"b\"\u001b[0m\u001b[0;34m\u001b[0m\u001b[0;34m\u001b[0m\u001b[0m\n\u001b[0;32m-> 1880\u001b[0;31m             self.handles = get_handle(\n\u001b[0m\u001b[1;32m   1881\u001b[0m                 \u001b[0mf\u001b[0m\u001b[0;34m,\u001b[0m\u001b[0;34m\u001b[0m\u001b[0;34m\u001b[0m\u001b[0m\n\u001b[1;32m   1882\u001b[0m                 \u001b[0mmode\u001b[0m\u001b[0;34m,\u001b[0m\u001b[0;34m\u001b[0m\u001b[0;34m\u001b[0m\u001b[0m\n",
            "\u001b[0;32m/usr/local/lib/python3.12/dist-packages/pandas/io/common.py\u001b[0m in \u001b[0;36mget_handle\u001b[0;34m(path_or_buf, mode, encoding, compression, memory_map, is_text, errors, storage_options)\u001b[0m\n\u001b[1;32m    871\u001b[0m         \u001b[0;32mif\u001b[0m \u001b[0mioargs\u001b[0m\u001b[0;34m.\u001b[0m\u001b[0mencoding\u001b[0m \u001b[0;32mand\u001b[0m \u001b[0;34m\"b\"\u001b[0m \u001b[0;32mnot\u001b[0m \u001b[0;32min\u001b[0m \u001b[0mioargs\u001b[0m\u001b[0;34m.\u001b[0m\u001b[0mmode\u001b[0m\u001b[0;34m:\u001b[0m\u001b[0;34m\u001b[0m\u001b[0;34m\u001b[0m\u001b[0m\n\u001b[1;32m    872\u001b[0m             \u001b[0;31m# Encoding\u001b[0m\u001b[0;34m\u001b[0m\u001b[0;34m\u001b[0m\u001b[0m\n\u001b[0;32m--> 873\u001b[0;31m             handle = open(\n\u001b[0m\u001b[1;32m    874\u001b[0m                 \u001b[0mhandle\u001b[0m\u001b[0;34m,\u001b[0m\u001b[0;34m\u001b[0m\u001b[0;34m\u001b[0m\u001b[0m\n\u001b[1;32m    875\u001b[0m                 \u001b[0mioargs\u001b[0m\u001b[0;34m.\u001b[0m\u001b[0mmode\u001b[0m\u001b[0;34m,\u001b[0m\u001b[0;34m\u001b[0m\u001b[0;34m\u001b[0m\u001b[0m\n",
            "\u001b[0;31mFileNotFoundError\u001b[0m: [Errno 2] No such file or directory: 'breast_cancer.csv'"
          ]
        }
      ]
    }
  ]
}